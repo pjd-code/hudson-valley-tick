{
  "nbformat": 4,
  "nbformat_minor": 0,
  "metadata": {
    "colab": {
      "name": "classifier-trainer.ipynb",
      "provenance": [],
      "collapsed_sections": [],
      "machine_shape": "hm",
      "authorship_tag": "ABX9TyMBwg39GI1e6/XaAC9nkj96",
      "include_colab_link": true
    },
    "kernelspec": {
      "name": "python3",
      "display_name": "Python 3"
    },
    "language_info": {
      "name": "python"
    }
  },
  "cells": [
    {
      "cell_type": "markdown",
      "metadata": {
        "id": "view-in-github",
        "colab_type": "text"
      },
      "source": [
        "<a href=\"https://colab.research.google.com/github/pjd-code/hudson-valley-tick/blob/main/classifier_trainer.ipynb\" target=\"_parent\"><img src=\"https://colab.research.google.com/assets/colab-badge.svg\" alt=\"Open In Colab\"/></a>"
      ]
    },
    {
      "cell_type": "markdown",
      "metadata": {
        "id": "kjVb09C9ADKf"
      },
      "source": [
        "https://docs.qiime2.org/2021.8/tutorials/feature-classifier/"
      ]
    },
    {
      "cell_type": "code",
      "metadata": {
        "id": "XB1dj98Up_fX"
      },
      "source": [
        "!git clone https://gist.github.com/pjd-code/c4665eb0c55e26f61fb5c9f83d9f3fa1"
      ],
      "execution_count": null,
      "outputs": []
    },
    {
      "cell_type": "code",
      "metadata": {
        "id": "Gl90KPOGqKIr"
      },
      "source": [
        "%run /content/c4665eb0c55e26f61fb5c9f83d9f3fa1/setup_qiime2.py"
      ],
      "execution_count": null,
      "outputs": []
    },
    {
      "cell_type": "code",
      "metadata": {
        "id": "9wbOmDUFsnit"
      },
      "source": [
        "%cd /content/sample_data"
      ],
      "execution_count": null,
      "outputs": []
    },
    {
      "cell_type": "code",
      "metadata": {
        "id": "RQAZbxuMm_ro"
      },
      "source": [
        "!wget https://gg-sg-web.s3-us-west-2.amazonaws.com/downloads/greengenes_database/gg_13_5/gg_13_5_otus.tar.gz \n",
        "\n",
        "!tar -xvzf /content/sample_data/gg_13_5_otus.tar.gz"
      ],
      "execution_count": null,
      "outputs": []
    },
    {
      "cell_type": "code",
      "source": [
        "!head /content/sample_data/gg_13_5_otus/taxonomy/99_otu_taxonomy.txt"
      ],
      "metadata": {
        "id": "nYCjClz_kXEr"
      },
      "execution_count": null,
      "outputs": []
    },
    {
      "cell_type": "code",
      "metadata": {
        "id": "_FyFPo50qB1b"
      },
      "source": [
        "!qiime tools import \\\n",
        "  --type 'FeatureData[Sequence]' \\\n",
        "  --input-path /content/sample_data/gg_13_5_otus/rep_set/99_otus.fasta \\\n",
        "  --output-path 99_otus.qza"
      ],
      "execution_count": null,
      "outputs": []
    },
    {
      "cell_type": "code",
      "metadata": {
        "id": "FmdqiY4Nv--k"
      },
      "source": [
        "!qiime tools import \\\n",
        "  --type 'FeatureData[Taxonomy]' \\\n",
        "  --input-format HeaderlessTSVTaxonomyFormat \\\n",
        "  --input-path /content/sample_data/gg_13_5_otus/taxonomy/99_otu_taxonomy.txt \\\n",
        "  --output-path gg_13_5_taxonomy.qza"
      ],
      "execution_count": null,
      "outputs": []
    },
    {
      "cell_type": "code",
      "metadata": {
        "id": "n9_tGh84wfs9"
      },
      "source": [
        "#V4 region 99% OTUs for 150bp single end reads using green genes database\n",
        "!qiime feature-classifier extract-reads \\\n",
        "  --i-sequences /content/sample_data/99_otus.qza \\\n",
        "  --p-f-primer GTGYCAGCMGCCGCGGTAA \\\n",
        "  --p-r-primer GGACTACNVGGGTWTCTAAT \\\n",
        "  --p-trunc-len 150 \\\n",
        "  --p-min-length 100 \\\n",
        "  --p-max-length 400 \\\n",
        "  --o-reads v4-150bp-se-ref-seqs-gg.qza"
      ],
      "execution_count": null,
      "outputs": []
    },
    {
      "cell_type": "code",
      "metadata": {
        "id": "Eix6_e7lwhJ0"
      },
      "source": [
        "!qiime feature-classifier fit-classifier-naive-bayes \\\n",
        "  --i-reference-reads v4-150bp-se-ref-seqs-gg.qza \\\n",
        "  --i-reference-taxonomy /content/sample_data/gg_13_5_taxonomy.qza \\\n",
        "  --o-classifier v4-150bp-classifier-gg.qza"
      ],
      "execution_count": null,
      "outputs": []
    },
    {
      "cell_type": "code",
      "source": [
        "!wget https://www.arb-silva.de/fileadmin/silva_databases/qiime/Silva_132_release.zip \n",
        "\n",
        "!unzip Silva_132_release.zip"
      ],
      "metadata": {
        "id": "m7TLvscILnGu"
      },
      "execution_count": null,
      "outputs": []
    },
    {
      "cell_type": "code",
      "source": [
        "!sed -i 's/#//g' /content/sample_data/SILVA_132_QIIME_release/taxonomy/16S_only/99/consensus_taxonomy_7_levels.txt\n",
        "!sed -i \"s/'/./g\" /content/sample_data/SILVA_132_QIIME_release/taxonomy/16S_only/99/consensus_taxonomy_7_levels.txt\n",
        "!sed -i 's/ /_/g' /content/sample_data/SILVA_132_QIIME_release/taxonomy/16S_only/99/consensus_taxonomy_7_levels.txt"
      ],
      "metadata": {
        "id": "8yWNZcEWrYR_"
      },
      "execution_count": null,
      "outputs": []
    },
    {
      "cell_type": "code",
      "source": [
        "!head /content/sample_data/SILVA_132_QIIME_release/taxonomy/16S_only/99/consensus_taxonomy_7_levels.txt"
      ],
      "metadata": {
        "id": "xQE8iREmsdhS"
      },
      "execution_count": null,
      "outputs": []
    },
    {
      "cell_type": "code",
      "source": [
        "!head /content/sample_data/SILVA_132_QIIME_release/rep_set/rep_set_16S_only/99/silva_132_99_16S.fna"
      ],
      "metadata": {
        "id": "lLttdHNzsnbr"
      },
      "execution_count": null,
      "outputs": []
    },
    {
      "cell_type": "code",
      "source": [
        "!qiime tools import \\\n",
        "  --type 'FeatureData[Sequence]' \\\n",
        "  --input-path /content/sample_data/SILVA_132_QIIME_release/rep_set/rep_set_16S_only/99/silva_132_99_16S.fna \\\n",
        "  --output-path 99_otus_silva.qza"
      ],
      "metadata": {
        "id": "3xyeASptDwmM"
      },
      "execution_count": null,
      "outputs": []
    },
    {
      "cell_type": "code",
      "source": [
        "!qiime tools import \\\n",
        "  --type 'FeatureData[Taxonomy]' \\\n",
        "  --input-format HeaderlessTSVTaxonomyFormat \\\n",
        "  --input-path /content/sample_data/SILVA_132_QIIME_release/taxonomy/taxonomy_all/99/consensus_taxonomy_7_levels.txt \\\n",
        "  --output-path silva-taxonomy.qza"
      ],
      "metadata": {
        "id": "-fw-y_i_hTM0"
      },
      "execution_count": null,
      "outputs": []
    },
    {
      "cell_type": "code",
      "source": [
        "#V4 region 99% OTUs for 150bp single end reads using silva database\n",
        "!qiime feature-classifier extract-reads \\\n",
        "  --i-sequences 99_otus_silva.qza \\\n",
        "  --p-f-primer GTGYCAGCMGCCGCGGTAA \\\n",
        "  --p-r-primer GGACTACNVGGGTWTCTAAT \\\n",
        "  --p-trunc-len 150 \\\n",
        "  --p-min-length 100 \\\n",
        "  --p-max-length 400 \\\n",
        "  --o-reads v4-150bp-se-refseqs-silva.qza"
      ],
      "metadata": {
        "id": "TCCnNtxT1DFL"
      },
      "execution_count": null,
      "outputs": []
    },
    {
      "cell_type": "code",
      "source": [
        "!qiime feature-classifier fit-classifier-naive-bayes \\\n",
        "  --i-reference-reads 99_otus_silva.qza \\\n",
        "  --i-reference-taxonomy silva-taxonomy.qza \\\n",
        "  --o-classifier classifier-silva.qza"
      ],
      "metadata": {
        "id": "deljnRxUKOds"
      },
      "execution_count": null,
      "outputs": []
    }
  ]
}