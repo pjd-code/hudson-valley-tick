{
  "cells": [
    {
      "cell_type": "markdown",
      "metadata": {
        "id": "view-in-github",
        "colab_type": "text"
      },
      "source": [
        "<a href=\"https://colab.research.google.com/github/pjd-code/hudson-valley-tick/blob/main/hudson_valley_tick_analysis_qiime%2Bgreengenes.ipynb\" target=\"_parent\"><img src=\"https://colab.research.google.com/assets/colab-badge.svg\" alt=\"Open In Colab\"/></a>"
      ]
    },
    {
      "cell_type": "markdown",
      "metadata": {
        "id": "UrwLl7pSBVfQ"
      },
      "source": [
        "This notebook will quickly run through the steps I used to process the raw reads. "
      ]
    },
    {
      "cell_type": "code",
      "execution_count": 1,
      "metadata": {
        "id": "EG3RnAtcBUuH",
        "colab": {
          "base_uri": "https://localhost:8080/"
        },
        "outputId": "bd73fa41-0a85-4fa4-c9c0-d1d53e17732b"
      },
      "outputs": [
        {
          "output_type": "stream",
          "name": "stdout",
          "text": [
            "/content/sample_data\n",
            "/content/sample_data\n"
          ]
        }
      ],
      "source": [
        "#clean up the Colab environment\n",
        "%cd /content/sample_data\n",
        "!rm *.csv\n",
        "!rm *.md\n",
        "!rm *.json\n",
        "%cd /content/sample_data"
      ]
    },
    {
      "cell_type": "code",
      "execution_count": null,
      "metadata": {
        "id": "7uSxNNuUFI-S"
      },
      "outputs": [],
      "source": [
        "from google.colab import drive\n",
        "drive.mount('/content/sample_data/googledrive')"
      ]
    },
    {
      "cell_type": "code",
      "execution_count": 2,
      "metadata": {
        "id": "gVyq90kNBQHF",
        "colab": {
          "base_uri": "https://localhost:8080/"
        },
        "outputId": "b11f1ecb-0ca7-4aa8-8421-a0b06c356b52"
      },
      "outputs": [
        {
          "output_type": "stream",
          "name": "stdout",
          "text": [
            "Cloning into 'hudson-valley-tick'...\n",
            "remote: Enumerating objects: 38, done.\u001b[K\n",
            "remote: Counting objects: 100% (38/38), done.\u001b[K\n",
            "remote: Compressing objects: 100% (36/36), done.\u001b[K\n",
            "remote: Total 38 (delta 15), reused 0 (delta 0), pack-reused 0\u001b[K\n",
            "Unpacking objects: 100% (38/38), done.\n"
          ]
        }
      ],
      "source": [
        "!git clone https://github.com/pjd-code/hudson-valley-tick.git"
      ]
    },
    {
      "cell_type": "code",
      "execution_count": 3,
      "metadata": {
        "id": "XH8K8u0OBfvY",
        "colab": {
          "base_uri": "https://localhost:8080/",
          "height": 263
        },
        "outputId": "0df27b10-06e6-4506-be2f-63d0ee100f43"
      },
      "outputs": [
        {
          "output_type": "display_data",
          "data": {
            "text/plain": [
              "\u001b[2;36m[19:30:44]\u001b[0m\u001b[2;36m \u001b[0m🐍 Downloading miniconda\u001b[33m...\u001b[0m                                     \u001b]8;id=62764;file:///content/sample_data/hudson-valley-tick/setup_qiime2.py\u001b\\\u001b[2msetup_qiime2.py\u001b[0m\u001b]8;;\u001b\\\u001b[2m:\u001b[0m\u001b]8;id=776331;file:///content/sample_data/hudson-valley-tick/setup_qiime2.py#40\u001b\\\u001b[2m40\u001b[0m\u001b]8;;\u001b\\\n"
            ],
            "text/html": [
              "<pre style=\"white-space:pre;overflow-x:auto;line-height:normal;font-family:Menlo,'DejaVu Sans Mono',consolas,'Courier New',monospace\"><span style=\"color: #7fbfbf; text-decoration-color: #7fbfbf\">[19:30:44] </span>🐍 Downloading miniconda<span style=\"color: #808000; text-decoration-color: #808000\">...</span>                                     <a href=\"file:///content/sample_data/hudson-valley-tick/setup_qiime2.py\" target=\"_blank\"><span style=\"color: #7f7f7f; text-decoration-color: #7f7f7f\">setup_qiime2.py</span></a><span style=\"color: #7f7f7f; text-decoration-color: #7f7f7f\">:</span><a href=\"file:///content/sample_data/hudson-valley-tick/setup_qiime2.py#40\" target=\"_blank\"><span style=\"color: #7f7f7f; text-decoration-color: #7f7f7f\">40</span></a>\n",
              "</pre>\n"
            ]
          },
          "metadata": {}
        },
        {
          "output_type": "display_data",
          "data": {
            "text/plain": [
              "\u001b[2;36m[19:30:49]\u001b[0m\u001b[2;36m \u001b[0m\u001b[34m🐍 Done.\u001b[0m                                                        \u001b]8;id=753661;file:///content/sample_data/hudson-valley-tick/setup_qiime2.py\u001b\\\u001b[2msetup_qiime2.py\u001b[0m\u001b]8;;\u001b\\\u001b[2m:\u001b[0m\u001b]8;id=898113;file:///content/sample_data/hudson-valley-tick/setup_qiime2.py#46\u001b\\\u001b[2m46\u001b[0m\u001b]8;;\u001b\\\n"
            ],
            "text/html": [
              "<pre style=\"white-space:pre;overflow-x:auto;line-height:normal;font-family:Menlo,'DejaVu Sans Mono',consolas,'Courier New',monospace\"><span style=\"color: #7fbfbf; text-decoration-color: #7fbfbf\">[19:30:49] </span><span style=\"color: #000080; text-decoration-color: #000080\">🐍 Done.</span>                                                        <a href=\"file:///content/sample_data/hudson-valley-tick/setup_qiime2.py\" target=\"_blank\"><span style=\"color: #7f7f7f; text-decoration-color: #7f7f7f\">setup_qiime2.py</span></a><span style=\"color: #7f7f7f; text-decoration-color: #7f7f7f\">:</span><a href=\"file:///content/sample_data/hudson-valley-tick/setup_qiime2.py#46\" target=\"_blank\"><span style=\"color: #7f7f7f; text-decoration-color: #7f7f7f\">46</span></a>\n",
              "</pre>\n"
            ]
          },
          "metadata": {}
        },
        {
          "output_type": "display_data",
          "data": {
            "text/plain": [
              "\u001b[2;36m          \u001b[0m\u001b[2;36m \u001b[0m🐍 Installing miniconda\u001b[33m...\u001b[0m                                      \u001b]8;id=994124;file:///content/sample_data/hudson-valley-tick/setup_qiime2.py\u001b\\\u001b[2msetup_qiime2.py\u001b[0m\u001b]8;;\u001b\\\u001b[2m:\u001b[0m\u001b]8;id=22417;file:///content/sample_data/hudson-valley-tick/setup_qiime2.py#40\u001b\\\u001b[2m40\u001b[0m\u001b]8;;\u001b\\\n"
            ],
            "text/html": [
              "<pre style=\"white-space:pre;overflow-x:auto;line-height:normal;font-family:Menlo,'DejaVu Sans Mono',consolas,'Courier New',monospace\"><span style=\"color: #7fbfbf; text-decoration-color: #7fbfbf\">           </span>🐍 Installing miniconda<span style=\"color: #808000; text-decoration-color: #808000\">...</span>                                      <a href=\"file:///content/sample_data/hudson-valley-tick/setup_qiime2.py\" target=\"_blank\"><span style=\"color: #7f7f7f; text-decoration-color: #7f7f7f\">setup_qiime2.py</span></a><span style=\"color: #7f7f7f; text-decoration-color: #7f7f7f\">:</span><a href=\"file:///content/sample_data/hudson-valley-tick/setup_qiime2.py#40\" target=\"_blank\"><span style=\"color: #7f7f7f; text-decoration-color: #7f7f7f\">40</span></a>\n",
              "</pre>\n"
            ]
          },
          "metadata": {}
        },
        {
          "output_type": "display_data",
          "data": {
            "text/plain": [
              "\u001b[2;36m[19:31:12]\u001b[0m\u001b[2;36m \u001b[0m\u001b[34m🐍 Installed miniconda to `\u001b[0m\u001b[34m/usr/\u001b[0m\u001b[34mlocal\u001b[0m\u001b[34m` 🐍\u001b[0m                       \u001b]8;id=553564;file:///content/sample_data/hudson-valley-tick/setup_qiime2.py\u001b\\\u001b[2msetup_qiime2.py\u001b[0m\u001b]8;;\u001b\\\u001b[2m:\u001b[0m\u001b]8;id=546670;file:///content/sample_data/hudson-valley-tick/setup_qiime2.py#46\u001b\\\u001b[2m46\u001b[0m\u001b]8;;\u001b\\\n"
            ],
            "text/html": [
              "<pre style=\"white-space:pre;overflow-x:auto;line-height:normal;font-family:Menlo,'DejaVu Sans Mono',consolas,'Courier New',monospace\"><span style=\"color: #7fbfbf; text-decoration-color: #7fbfbf\">[19:31:12] </span><span style=\"color: #000080; text-decoration-color: #000080\">🐍 Installed miniconda to `/usr/local` 🐍</span>                       <a href=\"file:///content/sample_data/hudson-valley-tick/setup_qiime2.py\" target=\"_blank\"><span style=\"color: #7f7f7f; text-decoration-color: #7f7f7f\">setup_qiime2.py</span></a><span style=\"color: #7f7f7f; text-decoration-color: #7f7f7f\">:</span><a href=\"file:///content/sample_data/hudson-valley-tick/setup_qiime2.py#46\" target=\"_blank\"><span style=\"color: #7f7f7f; text-decoration-color: #7f7f7f\">46</span></a>\n",
              "</pre>\n"
            ]
          },
          "metadata": {}
        },
        {
          "output_type": "display_data",
          "data": {
            "text/plain": [
              "\u001b[2;36m          \u001b[0m\u001b[2;36m \u001b[0m🔍 Downloading Qiime \u001b[1;36m2\u001b[0m package list\u001b[33m...\u001b[0m                          \u001b]8;id=869140;file:///content/sample_data/hudson-valley-tick/setup_qiime2.py\u001b\\\u001b[2msetup_qiime2.py\u001b[0m\u001b]8;;\u001b\\\u001b[2m:\u001b[0m\u001b]8;id=296804;file:///content/sample_data/hudson-valley-tick/setup_qiime2.py#40\u001b\\\u001b[2m40\u001b[0m\u001b]8;;\u001b\\\n"
            ],
            "text/html": [
              "<pre style=\"white-space:pre;overflow-x:auto;line-height:normal;font-family:Menlo,'DejaVu Sans Mono',consolas,'Courier New',monospace\"><span style=\"color: #7fbfbf; text-decoration-color: #7fbfbf\">           </span>🔍 Downloading Qiime <span style=\"color: #008080; text-decoration-color: #008080; font-weight: bold\">2</span> package list<span style=\"color: #808000; text-decoration-color: #808000\">...</span>                          <a href=\"file:///content/sample_data/hudson-valley-tick/setup_qiime2.py\" target=\"_blank\"><span style=\"color: #7f7f7f; text-decoration-color: #7f7f7f\">setup_qiime2.py</span></a><span style=\"color: #7f7f7f; text-decoration-color: #7f7f7f\">:</span><a href=\"file:///content/sample_data/hudson-valley-tick/setup_qiime2.py#40\" target=\"_blank\"><span style=\"color: #7f7f7f; text-decoration-color: #7f7f7f\">40</span></a>\n",
              "</pre>\n"
            ]
          },
          "metadata": {}
        },
        {
          "output_type": "display_data",
          "data": {
            "text/plain": [
              "\u001b[2;36m          \u001b[0m\u001b[2;36m \u001b[0m\u001b[34m🔍 Done.\u001b[0m                                                        \u001b]8;id=259817;file:///content/sample_data/hudson-valley-tick/setup_qiime2.py\u001b\\\u001b[2msetup_qiime2.py\u001b[0m\u001b]8;;\u001b\\\u001b[2m:\u001b[0m\u001b]8;id=520997;file:///content/sample_data/hudson-valley-tick/setup_qiime2.py#46\u001b\\\u001b[2m46\u001b[0m\u001b]8;;\u001b\\\n"
            ],
            "text/html": [
              "<pre style=\"white-space:pre;overflow-x:auto;line-height:normal;font-family:Menlo,'DejaVu Sans Mono',consolas,'Courier New',monospace\"><span style=\"color: #7fbfbf; text-decoration-color: #7fbfbf\">           </span><span style=\"color: #000080; text-decoration-color: #000080\">🔍 Done.</span>                                                        <a href=\"file:///content/sample_data/hudson-valley-tick/setup_qiime2.py\" target=\"_blank\"><span style=\"color: #7f7f7f; text-decoration-color: #7f7f7f\">setup_qiime2.py</span></a><span style=\"color: #7f7f7f; text-decoration-color: #7f7f7f\">:</span><a href=\"file:///content/sample_data/hudson-valley-tick/setup_qiime2.py#46\" target=\"_blank\"><span style=\"color: #7f7f7f; text-decoration-color: #7f7f7f\">46</span></a>\n",
              "</pre>\n"
            ]
          },
          "metadata": {}
        },
        {
          "output_type": "display_data",
          "data": {
            "text/plain": [
              "\u001b[2;36m          \u001b[0m\u001b[2;36m \u001b[0m🔍 Installing Qiime \u001b[1;36m2\u001b[0m. This may take a little bit.              \u001b]8;id=55944;file:///content/sample_data/hudson-valley-tick/setup_qiime2.py\u001b\\\u001b[2msetup_qiime2.py\u001b[0m\u001b]8;;\u001b\\\u001b[2m:\u001b[0m\u001b]8;id=155632;file:///content/sample_data/hudson-valley-tick/setup_qiime2.py#40\u001b\\\u001b[2m40\u001b[0m\u001b]8;;\u001b\\\n",
              "\u001b[2;36m           \u001b[0m 🕐                                                             \u001b[2m                  \u001b[0m\n"
            ],
            "text/html": [
              "<pre style=\"white-space:pre;overflow-x:auto;line-height:normal;font-family:Menlo,'DejaVu Sans Mono',consolas,'Courier New',monospace\"><span style=\"color: #7fbfbf; text-decoration-color: #7fbfbf\">           </span>🔍 Installing Qiime <span style=\"color: #008080; text-decoration-color: #008080; font-weight: bold\">2</span>. This may take a little bit.              <a href=\"file:///content/sample_data/hudson-valley-tick/setup_qiime2.py\" target=\"_blank\"><span style=\"color: #7f7f7f; text-decoration-color: #7f7f7f\">setup_qiime2.py</span></a><span style=\"color: #7f7f7f; text-decoration-color: #7f7f7f\">:</span><a href=\"file:///content/sample_data/hudson-valley-tick/setup_qiime2.py#40\" target=\"_blank\"><span style=\"color: #7f7f7f; text-decoration-color: #7f7f7f\">40</span></a>\n",
              "<span style=\"color: #7fbfbf; text-decoration-color: #7fbfbf\">           </span> 🕐                                                             <span style=\"color: #7f7f7f; text-decoration-color: #7f7f7f\">                  </span>\n",
              "</pre>\n"
            ]
          },
          "metadata": {}
        },
        {
          "output_type": "display_data",
          "data": {
            "text/plain": [
              "\u001b[2;36m[19:39:55]\u001b[0m\u001b[2;36m \u001b[0m\u001b[34m🔍 Done.\u001b[0m                                                        \u001b]8;id=863434;file:///content/sample_data/hudson-valley-tick/setup_qiime2.py\u001b\\\u001b[2msetup_qiime2.py\u001b[0m\u001b]8;;\u001b\\\u001b[2m:\u001b[0m\u001b]8;id=326735;file:///content/sample_data/hudson-valley-tick/setup_qiime2.py#46\u001b\\\u001b[2m46\u001b[0m\u001b]8;;\u001b\\\n"
            ],
            "text/html": [
              "<pre style=\"white-space:pre;overflow-x:auto;line-height:normal;font-family:Menlo,'DejaVu Sans Mono',consolas,'Courier New',monospace\"><span style=\"color: #7fbfbf; text-decoration-color: #7fbfbf\">[19:39:55] </span><span style=\"color: #000080; text-decoration-color: #000080\">🔍 Done.</span>                                                        <a href=\"file:///content/sample_data/hudson-valley-tick/setup_qiime2.py\" target=\"_blank\"><span style=\"color: #7f7f7f; text-decoration-color: #7f7f7f\">setup_qiime2.py</span></a><span style=\"color: #7f7f7f; text-decoration-color: #7f7f7f\">:</span><a href=\"file:///content/sample_data/hudson-valley-tick/setup_qiime2.py#46\" target=\"_blank\"><span style=\"color: #7f7f7f; text-decoration-color: #7f7f7f\">46</span></a>\n",
              "</pre>\n"
            ]
          },
          "metadata": {}
        },
        {
          "output_type": "display_data",
          "data": {
            "text/plain": [
              "\u001b[2;36m          \u001b[0m\u001b[2;36m \u001b[0m📊 Checking that Qiime \u001b[1;36m2\u001b[0m command line works\u001b[33m...\u001b[0m                  \u001b]8;id=355509;file:///content/sample_data/hudson-valley-tick/setup_qiime2.py\u001b\\\u001b[2msetup_qiime2.py\u001b[0m\u001b]8;;\u001b\\\u001b[2m:\u001b[0m\u001b]8;id=86564;file:///content/sample_data/hudson-valley-tick/setup_qiime2.py#40\u001b\\\u001b[2m40\u001b[0m\u001b]8;;\u001b\\\n"
            ],
            "text/html": [
              "<pre style=\"white-space:pre;overflow-x:auto;line-height:normal;font-family:Menlo,'DejaVu Sans Mono',consolas,'Courier New',monospace\"><span style=\"color: #7fbfbf; text-decoration-color: #7fbfbf\">           </span>📊 Checking that Qiime <span style=\"color: #008080; text-decoration-color: #008080; font-weight: bold\">2</span> command line works<span style=\"color: #808000; text-decoration-color: #808000\">...</span>                  <a href=\"file:///content/sample_data/hudson-valley-tick/setup_qiime2.py\" target=\"_blank\"><span style=\"color: #7f7f7f; text-decoration-color: #7f7f7f\">setup_qiime2.py</span></a><span style=\"color: #7f7f7f; text-decoration-color: #7f7f7f\">:</span><a href=\"file:///content/sample_data/hudson-valley-tick/setup_qiime2.py#40\" target=\"_blank\"><span style=\"color: #7f7f7f; text-decoration-color: #7f7f7f\">40</span></a>\n",
              "</pre>\n"
            ]
          },
          "metadata": {}
        },
        {
          "output_type": "display_data",
          "data": {
            "text/plain": [
              "\u001b[2;36m[19:39:59]\u001b[0m\u001b[2;36m \u001b[0m\u001b[34m📊 Qiime \u001b[0m\u001b[1;34m2\u001b[0m\u001b[34m command line looks good 🎉\u001b[0m                           \u001b]8;id=933083;file:///content/sample_data/hudson-valley-tick/setup_qiime2.py\u001b\\\u001b[2msetup_qiime2.py\u001b[0m\u001b]8;;\u001b\\\u001b[2m:\u001b[0m\u001b]8;id=59445;file:///content/sample_data/hudson-valley-tick/setup_qiime2.py#46\u001b\\\u001b[2m46\u001b[0m\u001b]8;;\u001b\\\n"
            ],
            "text/html": [
              "<pre style=\"white-space:pre;overflow-x:auto;line-height:normal;font-family:Menlo,'DejaVu Sans Mono',consolas,'Courier New',monospace\"><span style=\"color: #7fbfbf; text-decoration-color: #7fbfbf\">[19:39:59] </span><span style=\"color: #000080; text-decoration-color: #000080\">📊 Qiime </span><span style=\"color: #000080; text-decoration-color: #000080; font-weight: bold\">2</span><span style=\"color: #000080; text-decoration-color: #000080\"> command line looks good 🎉</span>                           <a href=\"file:///content/sample_data/hudson-valley-tick/setup_qiime2.py\" target=\"_blank\"><span style=\"color: #7f7f7f; text-decoration-color: #7f7f7f\">setup_qiime2.py</span></a><span style=\"color: #7f7f7f; text-decoration-color: #7f7f7f\">:</span><a href=\"file:///content/sample_data/hudson-valley-tick/setup_qiime2.py#46\" target=\"_blank\"><span style=\"color: #7f7f7f; text-decoration-color: #7f7f7f\">46</span></a>\n",
              "</pre>\n"
            ]
          },
          "metadata": {}
        },
        {
          "output_type": "display_data",
          "data": {
            "text/plain": [
              "\u001b[2;36m          \u001b[0m\u001b[2;36m \u001b[0mCleaned up unneeded files.                                      \u001b]8;id=948603;file:///content/sample_data/hudson-valley-tick/setup_qiime2.py\u001b\\\u001b[2msetup_qiime2.py\u001b[0m\u001b]8;;\u001b\\\u001b[2m:\u001b[0m\u001b]8;id=444133;file:///content/sample_data/hudson-valley-tick/setup_qiime2.py#35\u001b\\\u001b[2m35\u001b[0m\u001b]8;;\u001b\\\n"
            ],
            "text/html": [
              "<pre style=\"white-space:pre;overflow-x:auto;line-height:normal;font-family:Menlo,'DejaVu Sans Mono',consolas,'Courier New',monospace\"><span style=\"color: #7fbfbf; text-decoration-color: #7fbfbf\">           </span>Cleaned up unneeded files.                                      <a href=\"file:///content/sample_data/hudson-valley-tick/setup_qiime2.py\" target=\"_blank\"><span style=\"color: #7f7f7f; text-decoration-color: #7f7f7f\">setup_qiime2.py</span></a><span style=\"color: #7f7f7f; text-decoration-color: #7f7f7f\">:</span><a href=\"file:///content/sample_data/hudson-valley-tick/setup_qiime2.py#35\" target=\"_blank\"><span style=\"color: #7f7f7f; text-decoration-color: #7f7f7f\">35</span></a>\n",
              "</pre>\n"
            ]
          },
          "metadata": {}
        },
        {
          "output_type": "display_data",
          "data": {
            "text/plain": [
              "\u001b[2;36m          \u001b[0m\u001b[2;36m \u001b[0m\u001b[32mEverything is A-OK. You can start using Qiime \u001b[0m\u001b[1;32m2\u001b[0m\u001b[32m now 👍\u001b[0m         \u001b]8;id=157935;file:///content/sample_data/hudson-valley-tick/setup_qiime2.py\u001b\\\u001b[2msetup_qiime2.py\u001b[0m\u001b]8;;\u001b\\\u001b[2m:\u001b[0m\u001b]8;id=680229;file:///content/sample_data/hudson-valley-tick/setup_qiime2.py#136\u001b\\\u001b[2m136\u001b[0m\u001b]8;;\u001b\\\n"
            ],
            "text/html": [
              "<pre style=\"white-space:pre;overflow-x:auto;line-height:normal;font-family:Menlo,'DejaVu Sans Mono',consolas,'Courier New',monospace\"><span style=\"color: #7fbfbf; text-decoration-color: #7fbfbf\">           </span><span style=\"color: #008000; text-decoration-color: #008000\">Everything is A-OK. You can start using Qiime </span><span style=\"color: #008000; text-decoration-color: #008000; font-weight: bold\">2</span><span style=\"color: #008000; text-decoration-color: #008000\"> now 👍</span>         <a href=\"file:///content/sample_data/hudson-valley-tick/setup_qiime2.py\" target=\"_blank\"><span style=\"color: #7f7f7f; text-decoration-color: #7f7f7f\">setup_qiime2.py</span></a><span style=\"color: #7f7f7f; text-decoration-color: #7f7f7f\">:</span><a href=\"file:///content/sample_data/hudson-valley-tick/setup_qiime2.py#136\" target=\"_blank\"><span style=\"color: #7f7f7f; text-decoration-color: #7f7f7f\">136</span></a>\n",
              "</pre>\n"
            ]
          },
          "metadata": {}
        }
      ],
      "source": [
        "%run /content/sample_data/hudson-valley-tick/setup_qiime2.py"
      ]
    },
    {
      "cell_type": "code",
      "execution_count": 5,
      "metadata": {
        "id": "YJOBF4YDVZIl",
        "colab": {
          "base_uri": "https://localhost:8080/"
        },
        "outputId": "1fc09c73-e319-4e92-a073-68c2adb1ae80"
      },
      "outputs": [
        {
          "output_type": "stream",
          "name": "stdout",
          "text": [
            "/bin\n",
            "--2022-04-20 19:40:00--  https://launch.basespace.illumina.com/CLI/latest/amd64-linux/bs\n",
            "Resolving launch.basespace.illumina.com (launch.basespace.illumina.com)... 18.65.229.81, 18.65.229.12, 18.65.229.70, ...\n",
            "Connecting to launch.basespace.illumina.com (launch.basespace.illumina.com)|18.65.229.81|:443... connected.\n",
            "HTTP request sent, awaiting response... 200 OK\n",
            "Length: 12218368 (12M) [binary/octet-stream]\n",
            "Saving to: ‘/bin/bs’\n",
            "\n",
            "/bin/bs             100%[===================>]  11.65M  --.-KB/s    in 0.1s    \n",
            "\n",
            "2022-04-20 19:40:00 (117 MB/s) - ‘/bin/bs’ saved [12218368/12218368]\n",
            "\n"
          ]
        }
      ],
      "source": [
        "%cd /bin\n",
        "!wget \"https://launch.basespace.illumina.com/CLI/latest/amd64-linux/bs\" -O /bin/bs\n",
        "!chmod u+x /bin/bs"
      ]
    },
    {
      "cell_type": "code",
      "execution_count": 6,
      "metadata": {
        "id": "511j9t0-ViF_",
        "colab": {
          "base_uri": "https://localhost:8080/"
        },
        "outputId": "1a7d78fc-4743-4fe3-d893-b209e42c067d"
      },
      "outputs": [
        {
          "output_type": "stream",
          "name": "stdout",
          "text": [
            "Please go to this URL to authenticate:  https://basespace.illumina.com/oauth/device?code=JRwKS\n",
            "Welcome, Preston Dihle\n",
            "+----------------+----------------------------------------------------+\n",
            "| Name           | Preston Dihle                                      |\n",
            "| Id             | 23726704                                           |\n",
            "| Email          | preston.dihle@gmail.com                            |\n",
            "| DateCreated    | 2021-02-05 02:03:22 +0000 UTC                      |\n",
            "| DateLastActive | 2022-04-20 19:40:24 +0000 UTC                      |\n",
            "| Host           | https://api.basespace.illumina.com                 |\n",
            "| Scopes         | READ GLOBAL, CREATE GLOBAL, BROWSE GLOBAL,         |\n",
            "|                | CREATE PROJECTS, CREATE RUNS, START APPLICATIONS,  |\n",
            "|                | MOVETOTRASH GLOBAL, WRITE GLOBAL                   |\n",
            "+----------------+----------------------------------------------------+\n"
          ]
        }
      ],
      "source": [
        "!bs auth\n",
        "!bs  whoami"
      ]
    },
    {
      "cell_type": "code",
      "execution_count": null,
      "metadata": {
        "id": "x14iw-dkbk8h"
      },
      "outputs": [],
      "source": [
        "!bs project download --id 346661718 --extension=fastq.gz -o /content/sample_data/sequence"
      ]
    },
    {
      "cell_type": "code",
      "execution_count": 8,
      "metadata": {
        "colab": {
          "base_uri": "https://localhost:8080/"
        },
        "id": "AZFan1YxdBfN",
        "outputId": "c3879b37-3205-45d0-a0c1-c881887dbecd"
      },
      "outputs": [
        {
          "output_type": "stream",
          "name": "stdout",
          "text": [
            "/content/sample_data/sequence\n"
          ]
        }
      ],
      "source": [
        "%cd /content/sample_data/sequence"
      ]
    },
    {
      "cell_type": "code",
      "execution_count": null,
      "metadata": {
        "id": "aVRSpr7CWgYb"
      },
      "outputs": [],
      "source": [
        "#consolidate in one folder\n",
        "!mkdir samples \n",
        "!find . -name \"*.gz\" -exec mv \"{}\" samples \\;\n",
        "!rmdir */"
      ]
    },
    {
      "cell_type": "code",
      "source": [
        "!mv \\\n",
        "/content/sample_data/hudson-valley-tick/v4-150bp-se-ref-seqs-gg.qza \\\n",
        "/content/sample_data/hudson-valley-tick/v4-150bp-classifier-gg.qza \\\n",
        "/content/sample_data/sequence"
      ],
      "metadata": {
        "id": "XXhv34T7XJ6Z"
      },
      "execution_count": null,
      "outputs": []
    },
    {
      "cell_type": "code",
      "execution_count": null,
      "metadata": {
        "id": "M-KeeVLygEX8"
      },
      "outputs": [],
      "source": [
        "!qiime tools import \\\n",
        "  --type 'SampleData[PairedEndSequencesWithQuality]' \\\n",
        "  --input-path /content/sample_data/sequence/samples \\\n",
        "  --input-format CasavaOneEightSingleLanePerSampleDirFmt \\\n",
        "  --output-path demux-paired-end.qza"
      ]
    },
    {
      "cell_type": "code",
      "execution_count": null,
      "metadata": {
        "id": "985y9HuQgEMw"
      },
      "outputs": [],
      "source": [
        "!qiime tools peek demux-paired-end.qza"
      ]
    },
    {
      "cell_type": "code",
      "execution_count": null,
      "metadata": {
        "id": "FSYfWQYAgECS"
      },
      "outputs": [],
      "source": [
        "!qiime demux summarize \\\n",
        "  --i-data demux-paired-end.qza \\\n",
        "  --o-visualization demux-paired-end.qzv"
      ]
    },
    {
      "cell_type": "code",
      "execution_count": null,
      "metadata": {
        "id": "bX1OtNH_iG92"
      },
      "outputs": [],
      "source": [
        "# This method denoises single-end sequences, dereplicates them, and filters chimeras.\n",
        "\n",
        "!qiime dada2 denoise-single \\\n",
        "  --i-demultiplexed-seqs demux-paired-end.qza \\\n",
        "  --p-trim-left 0 \\\n",
        "  --p-trunc-len 150 \\\n",
        "  --o-representative-sequences se-rep-seqs-dada2.qza \\\n",
        "  --o-table se-table-dada2.qza \\\n",
        "  --o-denoising-stats se-stats-dada2.qza"
      ]
    },
    {
      "cell_type": "code",
      "execution_count": null,
      "metadata": {
        "id": "oJKjebVQKxUq"
      },
      "outputs": [],
      "source": [
        "!qiime feature-table summarize \\\n",
        "  --i-table se-table-dada2.qza \\\n",
        "  --o-visualization se-rep-seqs-dada2.qzv \\\n",
        "  --m-sample-metadata-file /content/sample_data/hudson-valley-tick/plate1-tick-metadata.txt\n",
        "\n",
        "!qiime feature-table tabulate-seqs \\\n",
        "  --i-data se-rep-seqs-dada2.qza \\\n",
        "  --o-visualization se-rep-seqs-dada2.qzv"
      ]
    },
    {
      "cell_type": "code",
      "execution_count": null,
      "metadata": {
        "id": "Bh7pC5a-fEeZ"
      },
      "outputs": [],
      "source": [
        "#open reference cluster using grene genes as referance\n",
        "!qiime vsearch cluster-features-open-reference \\\n",
        "  --i-sequences se-rep-seqs-dada2.qza \\\n",
        "  --i-table se-table-dada2.qza \\\n",
        "  --i-reference-sequences v4-150bp-se-ref-seqs-gg.qza \\\n",
        "  --p-perc-identity .99 \\\n",
        "  --p-threads 0 \\\n",
        "  --o-clustered-table se-vs_clst99-table.qza \\\n",
        "  --o-clustered-sequences se-vs_clst99-seq.qza \\\n",
        "  --o-new-reference-sequences tick_refseq99_gg.qza"
      ]
    },
    {
      "cell_type": "code",
      "execution_count": null,
      "metadata": {
        "id": "5WTBFLCE2GTR"
      },
      "outputs": [],
      "source": [
        "!qiime feature-table summarize \\\n",
        "  --i-table se-vs_clst99-table.qza \\\n",
        "  --o-visualization se-vs_clst99-table.qzv \\\n",
        "  --m-sample-metadata-file /content/sample_data/hudson-valley-tick/plate1-tick-metadata.txt\n",
        "\n",
        "!qiime feature-table tabulate-seqs \\\n",
        "  --i-data se-vs_clst99-seq.qza \\\n",
        "  --o-visualization se-vs_clst99-seq.qzv\n",
        "\n",
        "!qiime metadata tabulate \\\n",
        "  --m-input-file se-stats-dada2.qza \\\n",
        "  --o-visualization se-stats-dada2.qzv"
      ]
    },
    {
      "cell_type": "code",
      "execution_count": null,
      "metadata": {
        "id": "Er52-e6ENOaH"
      },
      "outputs": [],
      "source": [
        "!qiime phylogeny align-to-tree-mafft-fasttree \\\n",
        "  --i-sequences se-vs_clst99-seq.qza \\\n",
        "  --o-alignment aligned-rep-seqs.qza \\\n",
        "  --o-masked-alignment masked-aligned-rep-seqs.qza \\\n",
        "  --o-tree unrooted-tree.qza \\\n",
        "  --o-rooted-tree rooted-tree.qza"
      ]
    },
    {
      "cell_type": "code",
      "execution_count": null,
      "metadata": {
        "id": "UddjEFftjNpr"
      },
      "outputs": [],
      "source": [
        "!qiime feature-classifier classify-sklearn \\\n",
        "  --i-classifier v4-150bp-classifier-gg.qza \\\n",
        "  --i-reads se-vs_clst99-seq.qza \\\n",
        "  --o-classification taxonomy.qza"
      ]
    },
    {
      "cell_type": "code",
      "execution_count": null,
      "metadata": {
        "id": "kX8Je2DjGr4V"
      },
      "outputs": [],
      "source": [
        "!qiime taxa barplot \\\n",
        "  --i-table se-vs_clst99-table.qza \\\n",
        "  --i-taxonomy taxonomy.qza \\\n",
        "  --m-metadata-file /content/sample_data/hudson-valley-tick/plate1-tick-metadata.txt \\\n",
        "  --o-visualization taxa-bar-plots.qzv"
      ]
    },
    {
      "cell_type": "code",
      "execution_count": null,
      "metadata": {
        "id": "LKzE6TtqNOL-"
      },
      "outputs": [],
      "source": [
        "!qiime diversity core-metrics-phylogenetic \\\n",
        "  --i-phylogeny rooted-tree.qza \\\n",
        "  --i-table se-vs_clst99-table.qza \\\n",
        "  --p-sampling-depth 3000 \\\n",
        "  --m-metadata-file /content/sample_data/hudson-valley-tick/plate1-tick-metadata.txt \\\n",
        "  --output-dir core-metrics-results "
      ]
    },
    {
      "cell_type": "code",
      "execution_count": null,
      "metadata": {
        "id": "qq_NSOM5NNtv"
      },
      "outputs": [],
      "source": [
        "!qiime diversity alpha-group-significance \\\n",
        "  --i-alpha-diversity core-metrics-results/faith_pd_vector.qza \\\n",
        "  --m-metadata-file /content/sample_data/hudson-valley-tick/plate1-tick-metadata.txt \\\n",
        "  --o-visualization core-metrics-results/faith-pd-group-significance.qzv\n",
        "\n",
        "!qiime diversity alpha-group-significance \\\n",
        "  --i-alpha-diversity core-metrics-results/evenness_vector.qza \\\n",
        "  --m-metadata-file /content/sample_data/hudson-valley-tick/plate1-tick-metadata.txt \\\n",
        "  --o-visualization core-metrics-results/evenness-group-significance.qzv"
      ]
    },
    {
      "cell_type": "code",
      "execution_count": null,
      "metadata": {
        "id": "l7SIRel1PC0k"
      },
      "outputs": [],
      "source": [
        "!qiime diversity beta-group-significance \\\n",
        "  --i-distance-matrix core-metrics-results/unweighted_unifrac_distance_matrix.qza \\\n",
        "  --m-metadata-file /content/sample_data/hudson-valley-tick/plate1-tick-metadata.txt \\\n",
        "  --m-metadata-column collection-source \\\n",
        "  --o-visualization core-metrics-results/unweighted-unifrac-group-significance.qzv \\\n",
        "  --p-pairwise\n",
        "\n",
        "!qiime diversity beta-group-significance \\\n",
        "  --i-distance-matrix core-metrics-results/unweighted_unifrac_distance_matrix.qza \\\n",
        "  --m-metadata-file /content/sample_data/hudson-valley-tick/plate1-tick-metadata.txt \\\n",
        "  --m-metadata-column sex \\\n",
        "  --o-visualization core-metrics-results/unweighted-unifrac-primers-significance.qzv \\\n",
        "  --p-pairwise"
      ]
    }
  ],
  "metadata": {
    "colab": {
      "name": "hudson-valley-tick-analysis-qiime+greengenes",
      "provenance": [],
      "include_colab_link": true
    },
    "kernelspec": {
      "display_name": "Python 3",
      "name": "python3"
    },
    "language_info": {
      "name": "python"
    }
  },
  "nbformat": 4,
  "nbformat_minor": 0
}